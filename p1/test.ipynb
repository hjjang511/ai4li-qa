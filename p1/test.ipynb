{
 "cells": [
  {
   "cell_type": "code",
   "execution_count": null,
   "id": "cef46aa9",
   "metadata": {},
   "outputs": [],
   "source": [
    "import numpy as np\n",
    "import json\n",
    "\n",
    "def preprocess_gesture_json(json_path, sequence_length=10):\n",
    "    with open(json_path, \"r\") as f:\n",
    "        data = json.load(f)\n",
    "\n",
    "    frames = []\n",
    "    for frame in data:\n",
    "        if \"hands\" in frame and frame[\"hands\"]:\n",
    "            landmarks = frame[\"hands\"][0]\n",
    "            if len(landmarks) != 21 or landmarks[0] == [0, 0]:\n",
    "                continue\n",
    "\n",
    "            wrist = landmarks[0]\n",
    "            normalized = [(x - wrist[0], y - wrist[1]) if [x, y] != [0, 0] else (0.0, 0.0) for x, y in landmarks]\n",
    "            flat = [val for pair in normalized for val in pair]\n",
    "            frames.append(flat)\n",
    "\n",
    "    if len(frames) < sequence_length:\n",
    "        raise ValueError(f\"❌ Không đủ frame hợp lệ. Cần ≥ {sequence_length}, hiện có {len(frames)}\")\n",
    "\n",
    "    # Lấy đoạn cuối chuỗi\n",
    "    input_seq = np.array(frames[-sequence_length:])\n",
    "    return input_seq.reshape(1, sequence_length, -1)\n"
   ]
  },
  {
   "cell_type": "code",
   "execution_count": 5,
   "id": "6e8e669b",
   "metadata": {},
   "outputs": [
    {
     "name": "stderr",
     "output_type": "stream",
     "text": [
      "WARNING:absl:Compiled the loaded model, but the compiled metrics have yet to be built. `model.compile_metrics` will be empty until you train or evaluate the model.\n"
     ]
    },
    {
     "name": "stdout",
     "output_type": "stream",
     "text": [
      "✅ Input shape: (1, 10, 42)\n",
      "\u001b[1m1/1\u001b[0m \u001b[32m━━━━━━━━━━━━━━━━━━━━\u001b[0m\u001b[37m\u001b[0m \u001b[1m0s\u001b[0m 184ms/step\n",
      "🧠 Cử chỉ dự đoán là: q\n"
     ]
    }
   ],
   "source": [
    "from tensorflow.keras.models import load_model\n",
    "import joblib\n",
    "import numpy as np\n",
    "\n",
    "# Load model & LabelEncoder\n",
    "model = load_model(\"gesture_lstm_model.h5\")\n",
    "le = joblib.load(\"label_encoder.pkl\")\n",
    "\n",
    "# Load dữ liệu từ JSON mới\n",
    "X_input = preprocess_gesture_json(\"json/qtest.hands.json\", sequence_length=10)\n",
    "print(\"✅ Input shape:\", X_input.shape)\n",
    "\n",
    "# Dự đoán\n",
    "y_pred = model.predict(X_input)\n",
    "pred_label = le.inverse_transform([np.argmax(y_pred)])\n",
    "\n",
    "print(\"🧠 Cử chỉ dự đoán là:\", pred_label[0])"
   ]
  }
 ],
 "metadata": {
  "kernelspec": {
   "display_name": "openpose-env",
   "language": "python",
   "name": "python3"
  },
  "language_info": {
   "codemirror_mode": {
    "name": "ipython",
    "version": 3
   },
   "file_extension": ".py",
   "mimetype": "text/x-python",
   "name": "python",
   "nbconvert_exporter": "python",
   "pygments_lexer": "ipython3",
   "version": "3.12.10"
  }
 },
 "nbformat": 4,
 "nbformat_minor": 5
}
